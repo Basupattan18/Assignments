{
 "cells": [
  {
   "cell_type": "code",
   "execution_count": null,
   "id": "9ea043ca",
   "metadata": {},
   "outputs": [],
   "source": [
    "1.In the below elements which of them are values or an expression? eg:- values can be integer or string and expressions will be mathematical operators.\n",
    "    \n",
    "*  -  Expressions\n",
    "'hello' - Values\n",
    "-87.8 - Values\n",
    "-  - Expressions\n",
    "/   - Expressions\n",
    "6 - Values"
   ]
  },
  {
   "cell_type": "code",
   "execution_count": null,
   "id": "457c7e60",
   "metadata": {},
   "outputs": [],
   "source": [
    "2. What is the difference between string and variable?\n",
    "Ans:\n",
    "String will be defined in single or Double Quotes(\" \",' '), anythig under these quotes called strings. \n",
    "Variables are like empty things in that we can store/assign data/value"
   ]
  },
  {
   "cell_type": "code",
   "execution_count": null,
   "id": "4bb9e7c5",
   "metadata": {},
   "outputs": [],
   "source": [
    "3. Describe three different data types.\n",
    "Ans:\n",
    "    a. Integers : are purely numbers\n",
    "    b. Floating point numbers : Are numbers with decimal points\n",
    "    c. Strings : these are with single or double quotes"
   ]
  },
  {
   "cell_type": "code",
   "execution_count": null,
   "id": "a0c36c1a",
   "metadata": {},
   "outputs": [],
   "source": [
    "4. What is an expression made up of? What do all expressions do?\n",
    "Ans: \n",
    "    • Expressions made of of Values and Operators\n",
    "    • Expression always gives single output(value) at end"
   ]
  },
  {
   "cell_type": "code",
   "execution_count": null,
   "id": "fdd29a5a",
   "metadata": {},
   "outputs": [],
   "source": [
    "5. This assignment statements, like spam = 10. What is the difference between an expression and a statement?\n",
    "Ans: \n",
    "Expression is a combination of variables,operations and values that yields a result value.\n",
    "Statement represents an action or commands, A statments does something."
   ]
  },
  {
   "cell_type": "code",
   "execution_count": null,
   "id": "55e07ce7",
   "metadata": {},
   "outputs": [],
   "source": [
    "6. After running the following code, what does the variable bacon contain?\n",
    "bacon = 22\n",
    "bacon + 1\n",
    "Ans: 22"
   ]
  },
  {
   "cell_type": "code",
   "execution_count": null,
   "id": "92e8ea5c",
   "metadata": {},
   "outputs": [],
   "source": [
    "7. What should the values of the following two terms be?\n",
    "Ans:\n",
    "'spam' + 'spamspam' = 'spamspamspam'\n",
    "'spam' * 3 = 'spamspamspam'"
   ]
  },
  {
   "cell_type": "code",
   "execution_count": null,
   "id": "a021e564",
   "metadata": {},
   "outputs": [],
   "source": [
    "8. Why is eggs a valid variable name while 100 is invalid?\n",
    "Ans : Variables names can not begin with numbers."
   ]
  },
  {
   "cell_type": "code",
   "execution_count": null,
   "id": "e178bc0b",
   "metadata": {},
   "outputs": [],
   "source": [
    "9. What three functions can be used to get the integer, floating-point number, or string version of a value?\n",
    "Ans: Int(),  Float(), Str()"
   ]
  },
  {
   "cell_type": "code",
   "execution_count": null,
   "id": "0c5eb796",
   "metadata": {},
   "outputs": [],
   "source": [
    "10. Why does this expression cause an error? How can you fix it?\n",
    "'I have eaten ' + 99 + ' burritos.'\n",
    "Ans: \n",
    "Error: 99 is integer type and rest two are strings, so concatenation is not possible b/w str and int type.\n",
    "Solution: So keeping 99 under single or duble quote can fix it(Ex: '99',\"99\")"
   ]
  },
  {
   "cell_type": "code",
   "execution_count": 9,
   "id": "740de2cb",
   "metadata": {},
   "outputs": [
    {
     "data": {
      "text/plain": [
       "'C:\\\\Users\\\\akshaysn92'"
      ]
     },
     "execution_count": 9,
     "metadata": {},
     "output_type": "execute_result"
    }
   ],
   "source": [
    "pwd"
   ]
  },
  {
   "cell_type": "code",
   "execution_count": null,
   "id": "76c87a50",
   "metadata": {},
   "outputs": [],
   "source": []
  }
 ],
 "metadata": {
  "kernelspec": {
   "display_name": "Python 3 (ipykernel)",
   "language": "python",
   "name": "python3"
  },
  "language_info": {
   "codemirror_mode": {
    "name": "ipython",
    "version": 3
   },
   "file_extension": ".py",
   "mimetype": "text/x-python",
   "name": "python",
   "nbconvert_exporter": "python",
   "pygments_lexer": "ipython3",
   "version": "3.9.7"
  }
 },
 "nbformat": 4,
 "nbformat_minor": 5
}
