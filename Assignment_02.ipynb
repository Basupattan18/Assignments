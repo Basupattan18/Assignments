{
 "cells": [
  {
   "cell_type": "code",
   "execution_count": 19,
   "id": "27cb907c",
   "metadata": {},
   "outputs": [],
   "source": [
    "# 1.What are the two values of the Boolean data type? How do you write them?\n",
    "# Ans:  True(T) and false(F)"
   ]
  },
  {
   "cell_type": "code",
   "execution_count": 20,
   "id": "2dc1df6a",
   "metadata": {},
   "outputs": [],
   "source": [
    "# 2. What are the three different types of Boolean operators?\n",
    "# Ans:  AND, OR and NOT"
   ]
  },
  {
   "cell_type": "code",
   "execution_count": 23,
   "id": "3cfd5068",
   "metadata": {},
   "outputs": [],
   "source": [
    "#3. Make a list of each Boolean operator's truth tables (i.e. every possible combination of Boolean values for the operator and what it evaluate ).\n",
    "\n",
    "# True and True is True\n",
    "\n",
    "# True and False is False\n",
    "\n",
    "# False and True is False\n",
    "\n",
    "# False and False is False\n",
    "\n",
    "# True or True is True\n",
    "\n",
    "# True or False is True\n",
    "\n",
    "# False or True is True\n",
    "\n",
    "# False or False is False\n",
    "\n",
    "# not True is False\n",
    "\n",
    "# not False is True"
   ]
  },
  {
   "cell_type": "code",
   "execution_count": null,
   "id": "636f29d3",
   "metadata": {},
   "outputs": [],
   "source": [
    "4. What are the values of the following expressions?\n",
    "(5 > 4) and (3 == 5) : False\n",
    "not (5 > 4) : False\n",
    "(5 > 4) or (3 == 5) : True\n",
    "not ((5 > 4) or (3 == 5)) : False\n",
    "(True and True) and (True == False) : False\n",
    "(not False) or (not True) : True"
   ]
  },
  {
   "cell_type": "code",
   "execution_count": null,
   "id": "455715e4",
   "metadata": {},
   "outputs": [],
   "source": [
    "5. What are the six comparison operators?\n",
    "Ans : \n",
    "    1.  Less than ( < )\n",
    "    2. Less than or equal to (<=)\n",
    "    3. Greater than (>)\n",
    "    4. Greater than or equal to (>=)\n",
    "    5. Equal to ( == )\n",
    "    6. Not equal to ( != )"
   ]
  },
  {
   "cell_type": "code",
   "execution_count": null,
   "id": "12dd366d",
   "metadata": {},
   "outputs": [],
   "source": [
    "6. How do you tell the difference between the equal to and assignment operators? Describe a condition and when you would use one.\n",
    "Ans:\n",
    "The assignment operator( = ) is used to assign the value on the right to the variable on the left.\n",
    "(EX: a=10, b= “Basu”)\n",
    "The Equal to operator(==) checks whether the two given operands are equal or not. If so, it returns TRUE, otherwise it returns to FALSE.\n",
    "(EX:  10==10. this will return TRUE, 5==10 this will return FALSE)"
   ]
  },
  {
   "cell_type": "code",
   "execution_count": null,
   "id": "a04edafd",
   "metadata": {},
   "outputs": [],
   "source": [
    "7. Identify the three blocks in this code:\n",
    "spam = 0\n",
    "if spam == 10:\n",
    "print('eggs')\n",
    "if spam > 5:\n",
    "print('bacon')\n",
    "else:\n",
    "print('ham')\n",
    "print('spam')\n",
    "print('spam')\n",
    "Ans :\n",
    "spam = 0\n",
    "if spam == 10:\n",
    "    print('eggs')           # indent increased, block A\n",
    "    if spam > 5:            # still block A\n",
    "        print('bacon')      # still block A, indent increased, block B inside block A\n",
    "    else:                   # still block A, indent decreased, block B ended in line above\n",
    "        print('ham')        # still block A, indent increased, block C inside block A\n",
    "    print('spam')           # still block A, indent decreased, block C ended in line above\n",
    "print('spam')               # indent decreased, block A ended in line above\n",
    "\n"
   ]
  },
  {
   "cell_type": "code",
   "execution_count": 5,
   "id": "deac5621",
   "metadata": {},
   "outputs": [
    {
     "name": "stdout",
     "output_type": "stream",
     "text": [
      "1\n",
      "Hello\n"
     ]
    }
   ],
   "source": [
    "#8. Write code that prints Hello if 1 is stored in spam, prints Howdy if 2 is stored in spam, and prints Greetings! if anything else is stored in spam.\n",
    "#Ans:\n",
    "spam=int(input())\n",
    "if spam == 1:\n",
    "    print('Hello')\n",
    "elif spam == 2:\n",
    "    print('howdy')\n",
    "else:\n",
    "    print('Greetings')"
   ]
  },
  {
   "cell_type": "code",
   "execution_count": 6,
   "id": "7a2f25ca",
   "metadata": {},
   "outputs": [
    {
     "data": {
      "text/plain": [
       "1"
      ]
     },
     "execution_count": 6,
     "metadata": {},
     "output_type": "execute_result"
    }
   ],
   "source": [
    "spam"
   ]
  },
  {
   "cell_type": "code",
   "execution_count": 8,
   "id": "9c6bed38",
   "metadata": {},
   "outputs": [
    {
     "name": "stdout",
     "output_type": "stream",
     "text": [
      "2\n",
      "howdy\n"
     ]
    }
   ],
   "source": [
    "spam=int(input())\n",
    "if spam == 1:\n",
    "    print('Hello')\n",
    "elif spam == 2:\n",
    "    print('howdy')\n",
    "else:\n",
    "    print('Greetings')"
   ]
  },
  {
   "cell_type": "code",
   "execution_count": 9,
   "id": "df130554",
   "metadata": {},
   "outputs": [
    {
     "data": {
      "text/plain": [
       "2"
      ]
     },
     "execution_count": 9,
     "metadata": {},
     "output_type": "execute_result"
    }
   ],
   "source": [
    "spam"
   ]
  },
  {
   "cell_type": "code",
   "execution_count": 10,
   "id": "13fb6618",
   "metadata": {},
   "outputs": [
    {
     "name": "stdout",
     "output_type": "stream",
     "text": [
      "3\n",
      "Greetings\n"
     ]
    }
   ],
   "source": [
    "spam=int(input())\n",
    "if spam == 1:\n",
    "    print('Hello')\n",
    "elif spam == 2:\n",
    "    print('howdy')\n",
    "else:\n",
    "    print('Greetings')"
   ]
  },
  {
   "cell_type": "code",
   "execution_count": 11,
   "id": "1c35a429",
   "metadata": {},
   "outputs": [
    {
     "data": {
      "text/plain": [
       "3"
      ]
     },
     "execution_count": 11,
     "metadata": {},
     "output_type": "execute_result"
    }
   ],
   "source": [
    "spam"
   ]
  },
  {
   "cell_type": "code",
   "execution_count": 13,
   "id": "624f4050",
   "metadata": {},
   "outputs": [],
   "source": [
    "#9.If your programme is stuck in an endless loop, what keys you’ll press?\n",
    "#Ans : Interrupt the kernal"
   ]
  },
  {
   "cell_type": "code",
   "execution_count": null,
   "id": "45baf94f",
   "metadata": {},
   "outputs": [],
   "source": [
    "10. How can you tell the difference between break and continue?\n",
    "Ans:\n",
    "The Break statement is used to exit from the loop constructs.\n",
    "The continue statement is not used to exit from the loop constructs.\n",
    "The break statement is usually used with the switch statement, and it can also use it within the while loop, do-while loop, or the for-loop.\n",
    "The continue statement is not used with the switch statement, but it can be used within the while loop, do-while loop, or for-loop.\n",
    "When a break statement is encountered then the control is exited from the loop construct immediately.\n",
    "When the continue statement is encountered then the control automatically passed from the beginning of the loop statement.\n",
    "Syntax:\n",
    "break;\n",
    "Syntax:\n",
    "continue;"
   ]
  },
  {
   "cell_type": "code",
   "execution_count": 24,
   "id": "aabcb407",
   "metadata": {},
   "outputs": [],
   "source": [
    "#11. In a for loop, what is the difference between range(10), range(0, 10), and range(0, 10, 1)?\n",
    "# Ans: All 3 are same thing, as follows."
   ]
  },
  {
   "cell_type": "code",
   "execution_count": 25,
   "id": "d1b6a5ef",
   "metadata": {},
   "outputs": [
    {
     "name": "stdout",
     "output_type": "stream",
     "text": [
      "0\n",
      "1\n",
      "2\n",
      "3\n",
      "4\n",
      "5\n",
      "6\n",
      "7\n",
      "8\n",
      "9\n"
     ]
    }
   ],
   "source": [
    "for i in range(10):\n",
    "    print(i)"
   ]
  },
  {
   "cell_type": "code",
   "execution_count": 26,
   "id": "f8016a25",
   "metadata": {},
   "outputs": [
    {
     "name": "stdout",
     "output_type": "stream",
     "text": [
      "0\n",
      "1\n",
      "2\n",
      "3\n",
      "4\n",
      "5\n",
      "6\n",
      "7\n",
      "8\n",
      "9\n"
     ]
    }
   ],
   "source": [
    "for i in range(0,10):\n",
    "    print(i)"
   ]
  },
  {
   "cell_type": "code",
   "execution_count": 27,
   "id": "38bf195c",
   "metadata": {},
   "outputs": [
    {
     "name": "stdout",
     "output_type": "stream",
     "text": [
      "0\n",
      "1\n",
      "2\n",
      "3\n",
      "4\n",
      "5\n",
      "6\n",
      "7\n",
      "8\n",
      "9\n"
     ]
    }
   ],
   "source": [
    "for i in range(0,10,1):\n",
    "    print(i)"
   ]
  },
  {
   "cell_type": "code",
   "execution_count": 16,
   "id": "30fb95b8",
   "metadata": {},
   "outputs": [
    {
     "name": "stdout",
     "output_type": "stream",
     "text": [
      "1\n",
      "2\n",
      "3\n",
      "4\n",
      "5\n",
      "6\n",
      "7\n",
      "8\n",
      "9\n",
      "10\n"
     ]
    }
   ],
   "source": [
    "#12. Write a short program that prints the numbers 1 to 10 using a for loop. \n",
    "#Then write an equivalent program that prints the numbers 1 to 10 using a while loop.\n",
    "a=[1,2,3,4,5,6,7,8,9,10]\n",
    "for i in a:\n",
    "    print(i)"
   ]
  },
  {
   "cell_type": "code",
   "execution_count": 17,
   "id": "f7fa7d0a",
   "metadata": {},
   "outputs": [
    {
     "name": "stdout",
     "output_type": "stream",
     "text": [
      "1\n",
      "2\n",
      "3\n",
      "4\n",
      "5\n",
      "6\n",
      "7\n",
      "8\n",
      "9\n",
      "10\n"
     ]
    }
   ],
   "source": [
    "a=1\n",
    "while a<11:\n",
    "    print(a)\n",
    "    a=a+1"
   ]
  },
  {
   "cell_type": "code",
   "execution_count": null,
   "id": "c796e369",
   "metadata": {},
   "outputs": [],
   "source": [
    "13. If you had a function named bacon() inside a module named spam, how would you call it after importing spam?\n",
    "Ans : This function can be called with spam.bacon()"
   ]
  }
 ],
 "metadata": {
  "kernelspec": {
   "display_name": "Python 3 (ipykernel)",
   "language": "python",
   "name": "python3"
  },
  "language_info": {
   "codemirror_mode": {
    "name": "ipython",
    "version": 3
   },
   "file_extension": ".py",
   "mimetype": "text/x-python",
   "name": "python",
   "nbconvert_exporter": "python",
   "pygments_lexer": "ipython3",
   "version": "3.9.7"
  }
 },
 "nbformat": 4,
 "nbformat_minor": 5
}
